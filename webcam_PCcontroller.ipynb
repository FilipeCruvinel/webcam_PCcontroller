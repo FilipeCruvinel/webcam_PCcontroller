{
 "cells": [
  {
   "cell_type": "code",
   "execution_count": 1,
   "metadata": {},
   "outputs": [],
   "source": [
    "#importing libraries to prepare inputs\n",
    "import cv2\n",
    "import numpy as np\n",
    "import os\n",
    "import mediapipe as mp"
   ]
  },
  {
   "cell_type": "code",
   "execution_count": 2,
   "metadata": {},
   "outputs": [],
   "source": [
    "#loading mediapipe solutions for detecting key points on the body, hands and face (holistic) and for drawing skeletons (drawing_utils)\n",
    "mp_holistic = mp.solutions.holistic\n",
    "mp_drawing = mp.solutions.drawing_utils"
   ]
  },
  {
   "cell_type": "code",
   "execution_count": 3,
   "metadata": {},
   "outputs": [],
   "source": [
    "#defining the pose detector by keypoints\n",
    "def mediapipe_detection(image, model):\n",
    "    #converting the colors of the image from BGR to RGB and blocking the possibility of changing the image\n",
    "    #preparing the image in a configuration suitable for the application of the model\n",
    "    image = cv2.cvtColor(image, cv2.COLOR_BGR2RGB)\n",
    "    image.flags.writeable = False\n",
    "\n",
    "    #aplicação do modelo - reconhecimento dos pontos chave\n",
    "    results = model.process(image)\n",
    "\n",
    "    #model application - recognition of keypoints\n",
    "    image.flags.writeable = True\n",
    "    image = cv2.cvtColor(image, cv2.COLOR_RGB2BGR)\n",
    "\n",
    "    #return of the image and the results obtained (coordinates of the keypoints)\n",
    "    return image, results"
   ]
  },
  {
   "cell_type": "code",
   "execution_count": 4,
   "metadata": {},
   "outputs": [],
   "source": [
    "#definition for the skeleton drawing - based on the key points - in the image\n",
    "def draw_landmarks(image, results):\n",
    "    mp_drawing.draw_landmarks(image, results.pose_landmarks, mp_holistic.POSE_CONNECTIONS,\n",
    "                              mp_drawing.DrawingSpec(color=(80,22,10), thickness=2, circle_radius=4),\n",
    "                              mp_drawing.DrawingSpec(color=(80,44,121), thickness=2, circle_radius=2))\n",
    "    mp_drawing.draw_landmarks(image, results.left_hand_landmarks, mp_holistic.HAND_CONNECTIONS,\n",
    "                              mp_drawing.DrawingSpec(color=(121,22,76), thickness=2, circle_radius=4),\n",
    "                              mp_drawing.DrawingSpec(color=(121,44,250), thickness=2, circle_radius=2))\n",
    "    mp_drawing.draw_landmarks(image, results.right_hand_landmarks, mp_holistic.HAND_CONNECTIONS,\n",
    "                              mp_drawing.DrawingSpec(color=(245,117,66), thickness=2, circle_radius=4),\n",
    "                              mp_drawing.DrawingSpec(color=(245,66,230), thickness=2, circle_radius=2))"
   ]
  },
  {
   "cell_type": "code",
   "execution_count": 5,
   "metadata": {},
   "outputs": [],
   "source": [
    "#definition for converting keypoint data to numpy array\n",
    "def extract_keypoints(results):\n",
    "    pose = np.array([[res.x, res.y, res.z, res.visibility] for res in results.pose_landmarks.landmark]).flatten() if results.pose_landmarks else np.zeros(33*4)\n",
    "    lh = np.array([[res.x, res.y, res.z] for res in results.left_hand_landmarks.landmark]).flatten() if results.left_hand_landmarks else np.zeros(21*3)\n",
    "    rh = np.array([[res.x, res.y, res.z] for res in results.right_hand_landmarks.landmark]).flatten() if results.right_hand_landmarks else np.zeros(21*3)\n",
    "    print(np.concatenate([pose, lh, rh]))\n",
    "    return np.concatenate([pose, lh, rh])"
   ]
  },
  {
   "cell_type": "code",
   "execution_count": 7,
   "metadata": {},
   "outputs": [],
   "source": [
    "#definition of array containing the gestures to be detected\n",
    "actions = np.array(['vol-up', 'vol-down', 'bright-up', 'bright-down', 'nothing'])\n",
    "#definition of the number of videos per gesture\n",
    "no_sequences = 30\n",
    "#definition of the number of frames used per video\n",
    "sequence_length = 30"
   ]
  },
  {
   "cell_type": "code",
   "execution_count": 8,
   "metadata": {},
   "outputs": [],
   "source": [
    "#creation of the file structure for saving entries\n",
    "DATA_PATH = os.path.join('gesture-info')\n",
    "for action in actions:\n",
    "    for sequence in range(no_sequences):\n",
    "        try:\n",
    "            os.makedirs(os.path.join(DATA_PATH, action, str(sequence)))\n",
    "        except:\n",
    "            pass"
   ]
  },
  {
   "cell_type": "code",
   "execution_count": null,
   "metadata": {},
   "outputs": [],
   "source": [
    "with mp_holistic.Holistic(min_detection_confidence=0.4, min_tracking_confidence=0.4) as holistic:\n",
    "    #loop for each gesture\n",
    "    for action in actions:\n",
    "        #loop para cada vídeo\n",
    "        for sequence in range(0, no_sequences):\n",
    "            #loop for each video\n",
    "            cap = cv2.VideoCapture('videos/' + action + '-' + str(sequence + 1) + '.mp4')\n",
    "\n",
    "            #obtaining number of frames\n",
    "            cap_length = int(cap.get(cv2.CAP_PROP_FRAME_COUNT))\n",
    "\n",
    "            #identification of the distance between usable frames\n",
    "            aux = cap_length%sequence_length\n",
    "            if aux%2 == 0:\n",
    "                first_frame = int(aux/2)\n",
    "                last_frame = int(cap_length - aux/2)\n",
    "            else:\n",
    "                first_frame = int((aux - 1)/2)\n",
    "                last_frame = int(cap_length - (aux + 1)/2)\n",
    "\n",
    "            sequence_gap = int((last_frame - first_frame)/sequence_length)\n",
    "\n",
    "            count = 0\n",
    "            control1 = 0\n",
    "            control2 = 0\n",
    "            \n",
    "            #loop for each usable frame\n",
    "            for frame_num in range(0, last_frame):\n",
    "                ret, frame = cap.read()\n",
    "                frame = cv2.resize(frame, (640,480), interpolation=cv2.INTER_AREA)\n",
    "\n",
    "                if control1 < first_frame:\n",
    "                    control1 = control1 + 1\n",
    "                else:    \n",
    "                    if control2 == 0:\n",
    "                        #application of the keypoint detection model\n",
    "                        image, results = mediapipe_detection(frame, holistic)\n",
    "\n",
    "                        #conversion of data obtained into numpy array\n",
    "                        keypoints = extract_keypoints(results)\n",
    "\n",
    "                        #saving input data in the created structure\n",
    "                        npy_path = os.path.join(DATA_PATH, action, str(sequence), str(count))\n",
    "                        np.save(npy_path, keypoints)\n",
    "\n",
    "                        count = count + 1\n",
    "                        if sequence_gap != 1:\n",
    "                            control2 = control2 + 1\n",
    "                    else:\n",
    "                        if control2 == sequence_gap - 1:\n",
    "                            control2 = 0 \n",
    "                        else:\n",
    "                            control2 = control2 + 1\n",
    "    \n",
    "#Release the video capture\n",
    "cap.release()\n",
    "cv2.destroyAllWindows()"
   ]
  },
  {
   "cell_type": "code",
   "execution_count": 10,
   "metadata": {},
   "outputs": [],
   "source": [
    "#import of libraries to structure input and output data\n",
    "from sklearn.model_selection import train_test_split\n",
    "from tensorflow.keras.utils import to_categorical"
   ]
  },
  {
   "cell_type": "code",
   "execution_count": 11,
   "metadata": {},
   "outputs": [],
   "source": [
    "#convert the gesture array into a categorization structure\n",
    "#vol-up = 10000; vol-down = 01000; bright-up = 00100; bright-down = 00010; nothing = 00001\n",
    "label_map = {label:num for num, label in enumerate(actions)}"
   ]
  },
  {
   "cell_type": "code",
   "execution_count": 12,
   "metadata": {},
   "outputs": [],
   "source": [
    "#reading entries - numpy arrays - previously saved\n",
    "sequences, lables = [], []\n",
    "for action in actions:\n",
    "    for sequence in range(no_sequences):\n",
    "        window = []\n",
    "        for frame_num in range(sequence_length):\n",
    "            res = np.load(os.path.join(DATA_PATH, action, str(sequence), \"{}.npy\".format(frame_num)))\n",
    "            window.append(res)\n",
    "        sequences.append(window)\n",
    "        lables.append(label_map[action])"
   ]
  },
  {
   "cell_type": "code",
   "execution_count": 13,
   "metadata": {},
   "outputs": [],
   "source": [
    "#definition of input (x) and output (y) variables\n",
    "x = np.array(sequences)\n",
    "y = to_categorical(lables).astype(int)\n",
    "\n",
    "#separation of input and output in training and testing\n",
    "x_train, x_test, y_train, y_test = train_test_split(x, y, test_size = 0.05)"
   ]
  },
  {
   "cell_type": "code",
   "execution_count": 14,
   "metadata": {},
   "outputs": [],
   "source": [
    "#import of libraries for structuring the neural network\n",
    "from tensorflow.keras.models import Sequential\n",
    "from tensorflow.keras.layers import LSTM, Dense"
   ]
  },
  {
   "cell_type": "code",
   "execution_count": 15,
   "metadata": {},
   "outputs": [],
   "source": [
    "#definition of the neural network model\n",
    "model = Sequential()\n",
    "#first three layers using LSTM model, due to the possibility of storing information in the short and long term; interesting for variable time series,\n",
    "#such as action detection in videos\n",
    "model.add(LSTM(64, return_sequences=True, activation='relu', input_shape=(30,258)))\n",
    "model.add(LSTM(128, return_sequences=True, activation='relu'))\n",
    "model.add(LSTM(64, return_sequences=False, activation='relu'))\n",
    "#next layers using Dense model, more traditional, with all neorons fully interconnected\n",
    "model.add(Dense(64, activation='relu'))\n",
    "model.add(Dense(32, activation='relu'))\n",
    "#last layer functioning as a kind of probabilistic calculation (values ​​closer to 0 or 1), in order to represent one of the gestures by \n",
    "# the categorization structure\n",
    "model.add(Dense(actions.shape[0], activation='softmax'))"
   ]
  },
  {
   "cell_type": "code",
   "execution_count": 16,
   "metadata": {},
   "outputs": [],
   "source": [
    "#model compilation\n",
    "model.compile(optimizer='Adam', loss='categorical_crossentropy', metrics=['categorical_accuracy'])"
   ]
  },
  {
   "cell_type": "code",
   "execution_count": null,
   "metadata": {},
   "outputs": [],
   "source": [
    "#model training\n",
    "model.fit(x_train, y_train, epochs=2000)"
   ]
  },
  {
   "cell_type": "code",
   "execution_count": 71,
   "metadata": {},
   "outputs": [],
   "source": [
    "#Saving the weights of the trained model\n",
    "model.save_weights('gesture.h5')"
   ]
  },
  {
   "cell_type": "code",
   "execution_count": 19,
   "metadata": {},
   "outputs": [],
   "source": [
    "#Loading the weights of the trained model\n",
    "model.load_weights('gesture.h5')"
   ]
  },
  {
   "cell_type": "code",
   "execution_count": 20,
   "metadata": {},
   "outputs": [],
   "source": [
    "#Import of analytical metrics from the sklearn library\n",
    "from sklearn.metrics import confusion_matrix, accuracy_score"
   ]
  },
  {
   "cell_type": "code",
   "execution_count": 21,
   "metadata": {},
   "outputs": [
    {
     "name": "stdout",
     "output_type": "stream",
     "text": [
      "1/1 [==============================] - 1s 651ms/step\n"
     ]
    }
   ],
   "source": [
    "#test detection\n",
    "yhat = model.predict(x_test)"
   ]
  },
  {
   "cell_type": "code",
   "execution_count": 22,
   "metadata": {},
   "outputs": [],
   "source": [
    "ytrue = np.argmax(y_test, axis=1).tolist()\n",
    "yhat = np.argmax(yhat, axis=1).tolist()"
   ]
  },
  {
   "cell_type": "code",
   "execution_count": 23,
   "metadata": {},
   "outputs": [
    {
     "data": {
      "text/plain": [
       "array([[2, 0, 0, 0],\n",
       "       [0, 1, 0, 0],\n",
       "       [0, 0, 1, 0],\n",
       "       [0, 0, 0, 4]], dtype=int64)"
      ]
     },
     "execution_count": 23,
     "metadata": {},
     "output_type": "execute_result"
    }
   ],
   "source": [
    "#confusion matrix - used to map errors and confusion in detection\n",
    "confusion_matrix(ytrue, yhat)"
   ]
  },
  {
   "cell_type": "code",
   "execution_count": 24,
   "metadata": {},
   "outputs": [
    {
     "data": {
      "text/plain": [
       "1.0"
      ]
     },
     "execution_count": 24,
     "metadata": {},
     "output_type": "execute_result"
    }
   ],
   "source": [
    "#accuracy - hits/detections\n",
    "accuracy_score(ytrue, yhat)"
   ]
  },
  {
   "cell_type": "code",
   "execution_count": 25,
   "metadata": {},
   "outputs": [],
   "source": [
    "from ctypes import cast, POINTER\n",
    "from comtypes import CLSCTX_ALL\n",
    "from pycaw.pycaw import AudioUtilities, IAudioEndpointVolume\n",
    "import screen_brightness_control as pct"
   ]
  },
  {
   "cell_type": "code",
   "execution_count": 26,
   "metadata": {},
   "outputs": [],
   "source": [
    "#Definition of activities triggered by gestures\n",
    "def system_action(action):\n",
    "    if action == \"vol-up\":\n",
    "        #Identifies the audio output device\n",
    "        device = AudioUtilities.GetSpeakers()\n",
    "        interface = device.Activate(IAudioEndpointVolume._iid_, CLSCTX_ALL, None)\n",
    "        #Identifies the current volume\n",
    "        volume = cast(interface, POINTER(IAudioEndpointVolume))\n",
    "        #Increase one unit per iteration\n",
    "        for i in range(0, 5):\n",
    "            #check if the volume is at maximum\n",
    "            if volume.GetMasterVolumeLevelScalar() != 1:\n",
    "                volume.VolumeStepUp(None)\n",
    "\n",
    "    if action == \"vol-down\":\n",
    "        #Identifies the audio output device\n",
    "        device = AudioUtilities.GetSpeakers()\n",
    "        interface = device.Activate(IAudioEndpointVolume._iid_, CLSCTX_ALL, None)\n",
    "        #Identifies the current volume\n",
    "        volume = cast(interface, POINTER(IAudioEndpointVolume))\n",
    "        #Decrease one unit per iteration\n",
    "        for i in range(0, 5):\n",
    "            #check if the volume is at minimum\n",
    "            if volume.GetMasterVolumeLevelScalar() != 0:\n",
    "                volume.VolumeStepDown(None)\n",
    "\n",
    "    if action == \"bright-up\":\n",
    "        #Identifies the current brightness\n",
    "        current_bright = pct.get_brightness()\n",
    "        #check if the brightness will go to maximum\n",
    "        if current_bright[0] + 5 < 100:\n",
    "            pct.set_brightness(str(current_bright[0] + 5))\n",
    "        else:\n",
    "            pct.set_brightness(\"100\")\n",
    "        \n",
    "\n",
    "    if action == \"bright-down\":\n",
    "        #Identifies the current brightness\n",
    "        current_bright = pct.get_brightness()\n",
    "        #check if the brightness goes to minimum\n",
    "        if current_bright[0] - 5 > 0:\n",
    "            pct.set_brightness(str(current_bright[0] - 5))\n",
    "        else:\n",
    "            pct.set_brightness(\"0\")\n"
   ]
  },
  {
   "cell_type": "code",
   "execution_count": null,
   "metadata": {},
   "outputs": [],
   "source": [
    "#control variables\n",
    "sequence = []\n",
    "action = \"\"\n",
    "prob = \"\"\n",
    "control1 = 0\n",
    "control2 = 0\n",
    "show_count = 0\n",
    "\n",
    "#webcam capture\n",
    "cap = cv2.VideoCapture(0)\n",
    "\n",
    "with mp_holistic.Holistic(min_detection_confidence=0.4, min_tracking_confidence=0.4) as holistic:\n",
    "    #loop executed while webcam capture is open\n",
    "    while cap.isOpened():\n",
    "        #frame reading\n",
    "        ret, frame = cap.read()\n",
    "        frame = cv2.resize(frame, (640,480), interpolation=cv2.INTER_AREA)\n",
    "\n",
    "        if control1 == 0:\n",
    "            #application of the keypoint detection model\n",
    "            image, results = mediapipe_detection(frame, holistic)\n",
    "            \n",
    "            #drawing the keypoints -- skeleton\n",
    "            draw_landmarks(image, results)\n",
    "                \n",
    "            #conversion of data obtained into numpy array\n",
    "            keypoints = extract_keypoints(results)\n",
    "            sequence.append(keypoints)\n",
    "\n",
    "            #accumulated 30 frames, detection occurs\n",
    "            if len(sequence) == 30:\n",
    "                res = model.predict(np.expand_dims(sequence, axis=0))[0]\n",
    "                sequence = []\n",
    "                prob = str(res[np.argmax(res)])\n",
    "                action = actions[np.argmax(res)]\n",
    "                system_action(action)\n",
    "                show_count = show_count + 1\n",
    "\n",
    "        #control of used frames -- 1 in 2 frames\n",
    "        if control1 == 1:\n",
    "            control1 = 0\n",
    "        else:\n",
    "            control1 = control1 + 1\n",
    "\n",
    "        #control the time in which the gesture is detected and shown in the frame -- 10 frames\n",
    "        if show_count != 0:\n",
    "            if show_count == 10:\n",
    "                show_count = 0\n",
    "                action = \"\"\n",
    "                prob = \"\"\n",
    "            else:\n",
    "                show_count = show_count + 1\n",
    "\n",
    "        #writing the gesture detected in the frame and its probability\n",
    "        cv2.putText(image, action + ' ' + prob, (3,30), cv2.FONT_HERSHEY_COMPLEX, 1, (0, 0, 255), 2, cv2.LINE_AA)\n",
    "        #showing frame\n",
    "        cv2.imshow(\"OpenCV feed\", image)\n",
    "\n",
    "        #interrupt condition: press 'q' key\n",
    "        if cv2.waitKey(10) & 0xFF == ord('q'):\n",
    "            break\n",
    "\n",
    "    #Release webcam capture\n",
    "    cap.release()\n",
    "    cv2.destroyAllWindows()"
   ]
  }
 ],
 "metadata": {
  "kernelspec": {
   "display_name": "base",
   "language": "python",
   "name": "python3"
  },
  "language_info": {
   "codemirror_mode": {
    "name": "ipython",
    "version": 3
   },
   "file_extension": ".py",
   "mimetype": "text/x-python",
   "name": "python",
   "nbconvert_exporter": "python",
   "pygments_lexer": "ipython3",
   "version": "3.10.3"
  },
  "orig_nbformat": 4
 },
 "nbformat": 4,
 "nbformat_minor": 2
}
